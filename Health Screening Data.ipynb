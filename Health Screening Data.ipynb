{
 "cells": [
  {
   "cell_type": "code",
   "execution_count": 1,
   "id": "ca43c076",
   "metadata": {},
   "outputs": [],
   "source": [
    "import numpy as np\n",
    "import matplotlib.pyplot as plt\n",
    "import pandas as pd\n",
    "from pandas import DataFrame, Series"
   ]
  },
  {
   "cell_type": "code",
   "execution_count": 2,
   "id": "039542f0",
   "metadata": {},
   "outputs": [
    {
     "data": {
      "text/plain": [
       "'C:\\\\Users\\\\nitin'"
      ]
     },
     "execution_count": 2,
     "metadata": {},
     "output_type": "execute_result"
    }
   ],
   "source": [
    "pwd"
   ]
  },
  {
   "cell_type": "code",
   "execution_count": 3,
   "id": "232681ad",
   "metadata": {},
   "outputs": [
    {
     "name": "stdout",
     "output_type": "stream",
     "text": [
      "  AGE SEX  HIGHT  WEIGHT  Sys Dis  PULSE\n",
      "0  13   M  142.0    29.0  100  70     89\n",
      "1  12   M  152.0    32.0   93  57     90\n",
      "2  12   M  150.0    35.0  101  51     82\n",
      "3  13   M  173.0    45.0  116  66     75\n",
      "4  13   F  156.0    44.0   93  59     83\n"
     ]
    }
   ],
   "source": [
    "n = pd.read_excel(\"SCHOOL STUDENT DATA 2.xlsx\")\n",
    "\n",
    "print(n.head())"
   ]
  },
  {
   "cell_type": "code",
   "execution_count": 4,
   "id": "50011dbe",
   "metadata": {},
   "outputs": [
    {
     "data": {
      "text/plain": [
       "<bound method DataFrame.info of        AGE  SEX  HIGHT  WEIGHT  Sys Dis  PULSE\n",
       "0       13    M  142.0    29.0  100  70     89\n",
       "1       12    M  152.0    32.0   93  57     90\n",
       "2       12    M  150.0    35.0  101  51     82\n",
       "3       13    M  173.0    45.0  116  66     75\n",
       "4       13    F  156.0    44.0   93  59     83\n",
       "..     ...  ...    ...     ...  ...  ..    ...\n",
       "811     14    M  161.0    54.0  100  77    100\n",
       "812     14    M  102.0    36.0  102  75     91\n",
       "813  13.5F  NaN  167.0    40.0  109  83     88\n",
       "814     14    F  160.0    52.0  124  72    107\n",
       "815     14    F  158.0    66.0  114  68     78\n",
       "\n",
       "[816 rows x 7 columns]>"
      ]
     },
     "execution_count": 4,
     "metadata": {},
     "output_type": "execute_result"
    }
   ],
   "source": [
    "n.info"
   ]
  },
  {
   "cell_type": "code",
   "execution_count": 5,
   "id": "4c7ba63d",
   "metadata": {},
   "outputs": [
    {
     "data": {
      "text/plain": [
       "<bound method NDFrame.describe of        AGE  SEX  HIGHT  WEIGHT  Sys Dis  PULSE\n",
       "0       13    M  142.0    29.0  100  70     89\n",
       "1       12    M  152.0    32.0   93  57     90\n",
       "2       12    M  150.0    35.0  101  51     82\n",
       "3       13    M  173.0    45.0  116  66     75\n",
       "4       13    F  156.0    44.0   93  59     83\n",
       "..     ...  ...    ...     ...  ...  ..    ...\n",
       "811     14    M  161.0    54.0  100  77    100\n",
       "812     14    M  102.0    36.0  102  75     91\n",
       "813  13.5F  NaN  167.0    40.0  109  83     88\n",
       "814     14    F  160.0    52.0  124  72    107\n",
       "815     14    F  158.0    66.0  114  68     78\n",
       "\n",
       "[816 rows x 7 columns]>"
      ]
     },
     "execution_count": 5,
     "metadata": {},
     "output_type": "execute_result"
    }
   ],
   "source": [
    "n.describe"
   ]
  },
  {
   "cell_type": "code",
   "execution_count": 6,
   "id": "7c6bfa16",
   "metadata": {},
   "outputs": [
    {
     "data": {
      "text/plain": [
       "AGE       0\n",
       "SEX       4\n",
       "HIGHT     0\n",
       "WEIGHT    0\n",
       "Sys       0\n",
       "Dis       0\n",
       "PULSE     0\n",
       "dtype: int64"
      ]
     },
     "execution_count": 6,
     "metadata": {},
     "output_type": "execute_result"
    }
   ],
   "source": [
    "n.isnull().sum()"
   ]
  },
  {
   "cell_type": "code",
   "execution_count": 7,
   "id": "819b201b",
   "metadata": {},
   "outputs": [
    {
     "data": {
      "text/plain": [
       "AGE        object\n",
       "SEX        object\n",
       "HIGHT     float64\n",
       "WEIGHT    float64\n",
       "Sys        object\n",
       "Dis        object\n",
       "PULSE       int64\n",
       "dtype: object"
      ]
     },
     "execution_count": 7,
     "metadata": {},
     "output_type": "execute_result"
    }
   ],
   "source": [
    "n.dtypes"
   ]
  },
  {
   "cell_type": "code",
   "execution_count": 8,
   "id": "27edac3f",
   "metadata": {},
   "outputs": [
    {
     "data": {
      "text/plain": [
       "(468.5350000000893, 88.745)"
      ]
     },
     "execution_count": 8,
     "metadata": {},
     "output_type": "execute_result"
    }
   ],
   "source": [
    "Min_thresold, Max_thresold=n.HIGHT.quantile([0.001,0.999])\n",
    "Max_thresold, Min_thresold"
   ]
  },
  {
   "cell_type": "code",
   "execution_count": 9,
   "id": "1f0d5e25",
   "metadata": {},
   "outputs": [
    {
     "name": "stdout",
     "output_type": "stream",
     "text": [
      "<class 'pandas.core.frame.DataFrame'>\n",
      "RangeIndex: 816 entries, 0 to 815\n",
      "Data columns (total 7 columns):\n",
      " #   Column  Non-Null Count  Dtype  \n",
      "---  ------  --------------  -----  \n",
      " 0   AGE     816 non-null    object \n",
      " 1   SEX     812 non-null    object \n",
      " 2   HIGHT   816 non-null    float64\n",
      " 3   WEIGHT  816 non-null    float64\n",
      " 4   Sys     816 non-null    object \n",
      " 5   Dis     816 non-null    object \n",
      " 6   PULSE   816 non-null    int64  \n",
      "dtypes: float64(2), int64(1), object(4)\n",
      "memory usage: 44.8+ KB\n"
     ]
    }
   ],
   "source": [
    "n.info()"
   ]
  },
  {
   "cell_type": "code",
   "execution_count": 10,
   "id": "121463f9",
   "metadata": {},
   "outputs": [
    {
     "data": {
      "text/html": [
       "<div>\n",
       "<style scoped>\n",
       "    .dataframe tbody tr th:only-of-type {\n",
       "        vertical-align: middle;\n",
       "    }\n",
       "\n",
       "    .dataframe tbody tr th {\n",
       "        vertical-align: top;\n",
       "    }\n",
       "\n",
       "    .dataframe thead th {\n",
       "        text-align: right;\n",
       "    }\n",
       "</style>\n",
       "<table border=\"1\" class=\"dataframe\">\n",
       "  <thead>\n",
       "    <tr style=\"text-align: right;\">\n",
       "      <th></th>\n",
       "      <th>AGE</th>\n",
       "      <th>SEX</th>\n",
       "      <th>HIGHT</th>\n",
       "      <th>WEIGHT</th>\n",
       "      <th>Sys</th>\n",
       "      <th>Dis</th>\n",
       "      <th>PULSE</th>\n",
       "    </tr>\n",
       "  </thead>\n",
       "  <tbody>\n",
       "    <tr>\n",
       "      <th>176</th>\n",
       "      <td>14</td>\n",
       "      <td>M</td>\n",
       "      <td>1700.0</td>\n",
       "      <td>52.0</td>\n",
       "      <td>110</td>\n",
       "      <td>70</td>\n",
       "      <td>80</td>\n",
       "    </tr>\n",
       "  </tbody>\n",
       "</table>\n",
       "</div>"
      ],
      "text/plain": [
       "    AGE SEX   HIGHT  WEIGHT  Sys Dis  PULSE\n",
       "176  14   M  1700.0    52.0  110  70     80"
      ]
     },
     "execution_count": 10,
     "metadata": {},
     "output_type": "execute_result"
    }
   ],
   "source": [
    "n[n.HIGHT>Max_thresold]"
   ]
  },
  {
   "cell_type": "code",
   "execution_count": 11,
   "id": "d9765eee",
   "metadata": {},
   "outputs": [
    {
     "data": {
      "text/plain": [
       "AGE       0\n",
       "SEX       4\n",
       "HIGHT     0\n",
       "WEIGHT    0\n",
       "Sys       0\n",
       "Dis       0\n",
       "PULSE     0\n",
       "dtype: int64"
      ]
     },
     "execution_count": 11,
     "metadata": {},
     "output_type": "execute_result"
    }
   ],
   "source": [
    "n.isnull().sum()"
   ]
  },
  {
   "cell_type": "code",
   "execution_count": 12,
   "id": "603e42b3",
   "metadata": {},
   "outputs": [
    {
     "data": {
      "text/plain": [
       "Index(['AGE', 'SEX', 'HIGHT', 'WEIGHT', 'Sys', 'Dis', 'PULSE'], dtype='object')"
      ]
     },
     "execution_count": 12,
     "metadata": {},
     "output_type": "execute_result"
    }
   ],
   "source": [
    "n.columns"
   ]
  },
  {
   "cell_type": "code",
   "execution_count": 13,
   "id": "92691637",
   "metadata": {},
   "outputs": [
    {
     "data": {
      "text/plain": [
       "dtype('O')"
      ]
     },
     "execution_count": 13,
     "metadata": {},
     "output_type": "execute_result"
    }
   ],
   "source": [
    "n[\"Sys\"].dtypes"
   ]
  },
  {
   "cell_type": "code",
   "execution_count": 14,
   "id": "44f05443",
   "metadata": {},
   "outputs": [
    {
     "data": {
      "text/plain": [
       "1700.0"
      ]
     },
     "execution_count": 14,
     "metadata": {},
     "output_type": "execute_result"
    }
   ],
   "source": [
    "n[\"HIGHT\"].max()"
   ]
  },
  {
   "cell_type": "code",
   "execution_count": 15,
   "id": "fecbf65d",
   "metadata": {},
   "outputs": [],
   "source": [
    "a=pd.to_numeric(n[\"Sys\"],errors=\"coerce\").fillna(0).astype(int)\n"
   ]
  },
  {
   "cell_type": "code",
   "execution_count": 16,
   "id": "9f9470a8",
   "metadata": {},
   "outputs": [
    {
     "data": {
      "text/html": [
       "<div>\n",
       "<style scoped>\n",
       "    .dataframe tbody tr th:only-of-type {\n",
       "        vertical-align: middle;\n",
       "    }\n",
       "\n",
       "    .dataframe tbody tr th {\n",
       "        vertical-align: top;\n",
       "    }\n",
       "\n",
       "    .dataframe thead th {\n",
       "        text-align: right;\n",
       "    }\n",
       "</style>\n",
       "<table border=\"1\" class=\"dataframe\">\n",
       "  <thead>\n",
       "    <tr style=\"text-align: right;\">\n",
       "      <th></th>\n",
       "      <th>AGE</th>\n",
       "      <th>SEX</th>\n",
       "      <th>HIGHT</th>\n",
       "      <th>WEIGHT</th>\n",
       "      <th>Sys</th>\n",
       "      <th>Dis</th>\n",
       "      <th>PULSE</th>\n",
       "    </tr>\n",
       "  </thead>\n",
       "  <tbody>\n",
       "    <tr>\n",
       "      <th>397</th>\n",
       "      <td>15</td>\n",
       "      <td>F</td>\n",
       "      <td>70.0</td>\n",
       "      <td>54.0</td>\n",
       "      <td>132</td>\n",
       "      <td>54</td>\n",
       "      <td>78</td>\n",
       "    </tr>\n",
       "  </tbody>\n",
       "</table>\n",
       "</div>"
      ],
      "text/plain": [
       "    AGE SEX  HIGHT  WEIGHT  Sys Dis  PULSE\n",
       "397  15   F   70.0    54.0  132  54     78"
      ]
     },
     "execution_count": 16,
     "metadata": {},
     "output_type": "execute_result"
    }
   ],
   "source": [
    "n[n.HIGHT<Min_thresold]"
   ]
  },
  {
   "cell_type": "code",
   "execution_count": 17,
   "id": "43af2ca6",
   "metadata": {},
   "outputs": [
    {
     "data": {
      "text/plain": [
       "dtype('int32')"
      ]
     },
     "execution_count": 17,
     "metadata": {},
     "output_type": "execute_result"
    }
   ],
   "source": [
    "a.dtypes"
   ]
  },
  {
   "cell_type": "code",
   "execution_count": 18,
   "id": "6b8c7c96",
   "metadata": {},
   "outputs": [],
   "source": [
    "n[\"Sys\"]=pd.to_numeric(n[\"Sys\"],errors=\"coerce\").fillna(0).astype(int)"
   ]
  },
  {
   "cell_type": "code",
   "execution_count": 19,
   "id": "39c9f193",
   "metadata": {},
   "outputs": [
    {
     "data": {
      "text/plain": [
       "dtype('int32')"
      ]
     },
     "execution_count": 19,
     "metadata": {},
     "output_type": "execute_result"
    }
   ],
   "source": [
    "n[\"Sys\"].dtypes"
   ]
  },
  {
   "cell_type": "code",
   "execution_count": 20,
   "id": "80cd7956",
   "metadata": {},
   "outputs": [
    {
     "data": {
      "text/html": [
       "<div>\n",
       "<style scoped>\n",
       "    .dataframe tbody tr th:only-of-type {\n",
       "        vertical-align: middle;\n",
       "    }\n",
       "\n",
       "    .dataframe tbody tr th {\n",
       "        vertical-align: top;\n",
       "    }\n",
       "\n",
       "    .dataframe thead th {\n",
       "        text-align: right;\n",
       "    }\n",
       "</style>\n",
       "<table border=\"1\" class=\"dataframe\">\n",
       "  <thead>\n",
       "    <tr style=\"text-align: right;\">\n",
       "      <th></th>\n",
       "      <th>HIGHT</th>\n",
       "      <th>WEIGHT</th>\n",
       "      <th>Sys</th>\n",
       "      <th>PULSE</th>\n",
       "    </tr>\n",
       "  </thead>\n",
       "  <tbody>\n",
       "    <tr>\n",
       "      <th>count</th>\n",
       "      <td>816.000000</td>\n",
       "      <td>816.000000</td>\n",
       "      <td>816.000000</td>\n",
       "      <td>816.000000</td>\n",
       "    </tr>\n",
       "    <tr>\n",
       "      <th>mean</th>\n",
       "      <td>161.740196</td>\n",
       "      <td>59.281985</td>\n",
       "      <td>107.574755</td>\n",
       "      <td>92.594363</td>\n",
       "    </tr>\n",
       "    <tr>\n",
       "      <th>std</th>\n",
       "      <td>55.013673</td>\n",
       "      <td>213.486268</td>\n",
       "      <td>15.432793</td>\n",
       "      <td>16.027076</td>\n",
       "    </tr>\n",
       "    <tr>\n",
       "      <th>min</th>\n",
       "      <td>70.000000</td>\n",
       "      <td>4.000000</td>\n",
       "      <td>0.000000</td>\n",
       "      <td>38.000000</td>\n",
       "    </tr>\n",
       "    <tr>\n",
       "      <th>25%</th>\n",
       "      <td>153.000000</td>\n",
       "      <td>42.000000</td>\n",
       "      <td>99.000000</td>\n",
       "      <td>83.000000</td>\n",
       "    </tr>\n",
       "    <tr>\n",
       "      <th>50%</th>\n",
       "      <td>161.000000</td>\n",
       "      <td>50.000000</td>\n",
       "      <td>106.000000</td>\n",
       "      <td>92.000000</td>\n",
       "    </tr>\n",
       "    <tr>\n",
       "      <th>75%</th>\n",
       "      <td>167.000000</td>\n",
       "      <td>60.000000</td>\n",
       "      <td>116.000000</td>\n",
       "      <td>100.250000</td>\n",
       "    </tr>\n",
       "    <tr>\n",
       "      <th>max</th>\n",
       "      <td>1700.000000</td>\n",
       "      <td>6137.000000</td>\n",
       "      <td>155.000000</td>\n",
       "      <td>169.000000</td>\n",
       "    </tr>\n",
       "  </tbody>\n",
       "</table>\n",
       "</div>"
      ],
      "text/plain": [
       "             HIGHT       WEIGHT         Sys       PULSE\n",
       "count   816.000000   816.000000  816.000000  816.000000\n",
       "mean    161.740196    59.281985  107.574755   92.594363\n",
       "std      55.013673   213.486268   15.432793   16.027076\n",
       "min      70.000000     4.000000    0.000000   38.000000\n",
       "25%     153.000000    42.000000   99.000000   83.000000\n",
       "50%     161.000000    50.000000  106.000000   92.000000\n",
       "75%     167.000000    60.000000  116.000000  100.250000\n",
       "max    1700.000000  6137.000000  155.000000  169.000000"
      ]
     },
     "execution_count": 20,
     "metadata": {},
     "output_type": "execute_result"
    }
   ],
   "source": [
    "n.describe()"
   ]
  },
  {
   "cell_type": "code",
   "execution_count": 21,
   "id": "ece03f48",
   "metadata": {},
   "outputs": [],
   "source": [
    "n[\"Dis\"]=pd.to_numeric(n[\"Dis\"],errors=\"coerce\").fillna(0).astype(int)"
   ]
  },
  {
   "cell_type": "code",
   "execution_count": 22,
   "id": "b0e05b25",
   "metadata": {},
   "outputs": [
    {
     "data": {
      "text/html": [
       "<div>\n",
       "<style scoped>\n",
       "    .dataframe tbody tr th:only-of-type {\n",
       "        vertical-align: middle;\n",
       "    }\n",
       "\n",
       "    .dataframe tbody tr th {\n",
       "        vertical-align: top;\n",
       "    }\n",
       "\n",
       "    .dataframe thead th {\n",
       "        text-align: right;\n",
       "    }\n",
       "</style>\n",
       "<table border=\"1\" class=\"dataframe\">\n",
       "  <thead>\n",
       "    <tr style=\"text-align: right;\">\n",
       "      <th></th>\n",
       "      <th>HIGHT</th>\n",
       "      <th>WEIGHT</th>\n",
       "      <th>Sys</th>\n",
       "      <th>Dis</th>\n",
       "      <th>PULSE</th>\n",
       "    </tr>\n",
       "  </thead>\n",
       "  <tbody>\n",
       "    <tr>\n",
       "      <th>count</th>\n",
       "      <td>816.000000</td>\n",
       "      <td>816.000000</td>\n",
       "      <td>816.000000</td>\n",
       "      <td>816.000000</td>\n",
       "      <td>816.000000</td>\n",
       "    </tr>\n",
       "    <tr>\n",
       "      <th>mean</th>\n",
       "      <td>161.740196</td>\n",
       "      <td>59.281985</td>\n",
       "      <td>107.574755</td>\n",
       "      <td>67.123775</td>\n",
       "      <td>92.594363</td>\n",
       "    </tr>\n",
       "    <tr>\n",
       "      <th>std</th>\n",
       "      <td>55.013673</td>\n",
       "      <td>213.486268</td>\n",
       "      <td>15.432793</td>\n",
       "      <td>13.553552</td>\n",
       "      <td>16.027076</td>\n",
       "    </tr>\n",
       "    <tr>\n",
       "      <th>min</th>\n",
       "      <td>70.000000</td>\n",
       "      <td>4.000000</td>\n",
       "      <td>0.000000</td>\n",
       "      <td>0.000000</td>\n",
       "      <td>38.000000</td>\n",
       "    </tr>\n",
       "    <tr>\n",
       "      <th>25%</th>\n",
       "      <td>153.000000</td>\n",
       "      <td>42.000000</td>\n",
       "      <td>99.000000</td>\n",
       "      <td>59.000000</td>\n",
       "      <td>83.000000</td>\n",
       "    </tr>\n",
       "    <tr>\n",
       "      <th>50%</th>\n",
       "      <td>161.000000</td>\n",
       "      <td>50.000000</td>\n",
       "      <td>106.000000</td>\n",
       "      <td>67.000000</td>\n",
       "      <td>92.000000</td>\n",
       "    </tr>\n",
       "    <tr>\n",
       "      <th>75%</th>\n",
       "      <td>167.000000</td>\n",
       "      <td>60.000000</td>\n",
       "      <td>116.000000</td>\n",
       "      <td>74.000000</td>\n",
       "      <td>100.250000</td>\n",
       "    </tr>\n",
       "    <tr>\n",
       "      <th>max</th>\n",
       "      <td>1700.000000</td>\n",
       "      <td>6137.000000</td>\n",
       "      <td>155.000000</td>\n",
       "      <td>176.000000</td>\n",
       "      <td>169.000000</td>\n",
       "    </tr>\n",
       "  </tbody>\n",
       "</table>\n",
       "</div>"
      ],
      "text/plain": [
       "             HIGHT       WEIGHT         Sys         Dis       PULSE\n",
       "count   816.000000   816.000000  816.000000  816.000000  816.000000\n",
       "mean    161.740196    59.281985  107.574755   67.123775   92.594363\n",
       "std      55.013673   213.486268   15.432793   13.553552   16.027076\n",
       "min      70.000000     4.000000    0.000000    0.000000   38.000000\n",
       "25%     153.000000    42.000000   99.000000   59.000000   83.000000\n",
       "50%     161.000000    50.000000  106.000000   67.000000   92.000000\n",
       "75%     167.000000    60.000000  116.000000   74.000000  100.250000\n",
       "max    1700.000000  6137.000000  155.000000  176.000000  169.000000"
      ]
     },
     "execution_count": 22,
     "metadata": {},
     "output_type": "execute_result"
    }
   ],
   "source": [
    "n.describe()"
   ]
  },
  {
   "cell_type": "code",
   "execution_count": 23,
   "id": "5ffcd06b",
   "metadata": {},
   "outputs": [
    {
     "data": {
      "text/plain": [
       "RangeIndex(start=0, stop=816, step=1)"
      ]
     },
     "execution_count": 23,
     "metadata": {},
     "output_type": "execute_result"
    }
   ],
   "source": [
    "n.index"
   ]
  },
  {
   "cell_type": "code",
   "execution_count": 24,
   "id": "577df5a6",
   "metadata": {},
   "outputs": [
    {
     "data": {
      "text/plain": [
       "(1218.4750000003569, 4.0)"
      ]
     },
     "execution_count": 24,
     "metadata": {},
     "output_type": "execute_result"
    }
   ],
   "source": [
    "Max_w,Min_w=n.WEIGHT.quantile([0.999,0.001])\n",
    "Max_w,Min_w"
   ]
  },
  {
   "cell_type": "code",
   "execution_count": 25,
   "id": "01037621",
   "metadata": {},
   "outputs": [
    {
     "data": {
      "text/plain": [
       "Index(['AGE', 'SEX', 'HIGHT', 'WEIGHT', 'Sys', 'Dis', 'PULSE'], dtype='object')"
      ]
     },
     "execution_count": 25,
     "metadata": {},
     "output_type": "execute_result"
    }
   ],
   "source": [
    "\n",
    "\n",
    "n.columns"
   ]
  },
  {
   "cell_type": "code",
   "execution_count": 26,
   "id": "74d4dac7",
   "metadata": {},
   "outputs": [
    {
     "data": {
      "text/html": [
       "<div>\n",
       "<style scoped>\n",
       "    .dataframe tbody tr th:only-of-type {\n",
       "        vertical-align: middle;\n",
       "    }\n",
       "\n",
       "    .dataframe tbody tr th {\n",
       "        vertical-align: top;\n",
       "    }\n",
       "\n",
       "    .dataframe thead th {\n",
       "        text-align: right;\n",
       "    }\n",
       "</style>\n",
       "<table border=\"1\" class=\"dataframe\">\n",
       "  <thead>\n",
       "    <tr style=\"text-align: right;\">\n",
       "      <th></th>\n",
       "      <th>AGE</th>\n",
       "      <th>SEX</th>\n",
       "      <th>HIGHT</th>\n",
       "      <th>WEIGHT</th>\n",
       "      <th>Sys</th>\n",
       "      <th>Dis</th>\n",
       "      <th>PULSE</th>\n",
       "    </tr>\n",
       "  </thead>\n",
       "  <tbody>\n",
       "    <tr>\n",
       "      <th>413</th>\n",
       "      <td>14</td>\n",
       "      <td>F</td>\n",
       "      <td>158.0</td>\n",
       "      <td>6137.0</td>\n",
       "      <td>109</td>\n",
       "      <td>93</td>\n",
       "      <td>114</td>\n",
       "    </tr>\n",
       "  </tbody>\n",
       "</table>\n",
       "</div>"
      ],
      "text/plain": [
       "    AGE SEX  HIGHT  WEIGHT  Sys  Dis  PULSE\n",
       "413  14   F  158.0  6137.0  109   93    114"
      ]
     },
     "execution_count": 26,
     "metadata": {},
     "output_type": "execute_result"
    }
   ],
   "source": [
    "n[n.WEIGHT>Max_w]"
   ]
  },
  {
   "cell_type": "code",
   "execution_count": 27,
   "id": "aba804d6",
   "metadata": {},
   "outputs": [
    {
     "ename": "ValueError",
     "evalue": "invalid literal for int() with base 10: '15M'",
     "output_type": "error",
     "traceback": [
      "\u001b[1;31m---------------------------------------------------------------------------\u001b[0m",
      "\u001b[1;31mValueError\u001b[0m                                Traceback (most recent call last)",
      "Cell \u001b[1;32mIn[27], line 1\u001b[0m\n\u001b[1;32m----> 1\u001b[0m n[\u001b[38;5;124m'\u001b[39m\u001b[38;5;124mAGE\u001b[39m\u001b[38;5;124m'\u001b[39m]\u001b[38;5;241m=\u001b[39m\u001b[43mn\u001b[49m\u001b[43m[\u001b[49m\u001b[38;5;124;43m'\u001b[39;49m\u001b[38;5;124;43mAGE\u001b[39;49m\u001b[38;5;124;43m'\u001b[39;49m\u001b[43m]\u001b[49m\u001b[38;5;241;43m.\u001b[39;49m\u001b[43mastype\u001b[49m\u001b[43m(\u001b[49m\u001b[38;5;28;43mint\u001b[39;49m\u001b[43m)\u001b[49m\n",
      "File \u001b[1;32m~\\abBox\\lib\\site-packages\\pandas\\core\\generic.py:6240\u001b[0m, in \u001b[0;36mNDFrame.astype\u001b[1;34m(self, dtype, copy, errors)\u001b[0m\n\u001b[0;32m   6233\u001b[0m     results \u001b[38;5;241m=\u001b[39m [\n\u001b[0;32m   6234\u001b[0m         \u001b[38;5;28mself\u001b[39m\u001b[38;5;241m.\u001b[39miloc[:, i]\u001b[38;5;241m.\u001b[39mastype(dtype, copy\u001b[38;5;241m=\u001b[39mcopy)\n\u001b[0;32m   6235\u001b[0m         \u001b[38;5;28;01mfor\u001b[39;00m i \u001b[38;5;129;01min\u001b[39;00m \u001b[38;5;28mrange\u001b[39m(\u001b[38;5;28mlen\u001b[39m(\u001b[38;5;28mself\u001b[39m\u001b[38;5;241m.\u001b[39mcolumns))\n\u001b[0;32m   6236\u001b[0m     ]\n\u001b[0;32m   6238\u001b[0m \u001b[38;5;28;01melse\u001b[39;00m:\n\u001b[0;32m   6239\u001b[0m     \u001b[38;5;66;03m# else, only a single dtype is given\u001b[39;00m\n\u001b[1;32m-> 6240\u001b[0m     new_data \u001b[38;5;241m=\u001b[39m \u001b[38;5;28;43mself\u001b[39;49m\u001b[38;5;241;43m.\u001b[39;49m\u001b[43m_mgr\u001b[49m\u001b[38;5;241;43m.\u001b[39;49m\u001b[43mastype\u001b[49m\u001b[43m(\u001b[49m\u001b[43mdtype\u001b[49m\u001b[38;5;241;43m=\u001b[39;49m\u001b[43mdtype\u001b[49m\u001b[43m,\u001b[49m\u001b[43m \u001b[49m\u001b[43mcopy\u001b[49m\u001b[38;5;241;43m=\u001b[39;49m\u001b[43mcopy\u001b[49m\u001b[43m,\u001b[49m\u001b[43m \u001b[49m\u001b[43merrors\u001b[49m\u001b[38;5;241;43m=\u001b[39;49m\u001b[43merrors\u001b[49m\u001b[43m)\u001b[49m\n\u001b[0;32m   6241\u001b[0m     \u001b[38;5;28;01mreturn\u001b[39;00m \u001b[38;5;28mself\u001b[39m\u001b[38;5;241m.\u001b[39m_constructor(new_data)\u001b[38;5;241m.\u001b[39m__finalize__(\u001b[38;5;28mself\u001b[39m, method\u001b[38;5;241m=\u001b[39m\u001b[38;5;124m\"\u001b[39m\u001b[38;5;124mastype\u001b[39m\u001b[38;5;124m\"\u001b[39m)\n\u001b[0;32m   6243\u001b[0m \u001b[38;5;66;03m# GH 33113: handle empty frame or series\u001b[39;00m\n",
      "File \u001b[1;32m~\\abBox\\lib\\site-packages\\pandas\\core\\internals\\managers.py:448\u001b[0m, in \u001b[0;36mBaseBlockManager.astype\u001b[1;34m(self, dtype, copy, errors)\u001b[0m\n\u001b[0;32m    447\u001b[0m \u001b[38;5;28;01mdef\u001b[39;00m \u001b[38;5;21mastype\u001b[39m(\u001b[38;5;28mself\u001b[39m: T, dtype, copy: \u001b[38;5;28mbool\u001b[39m \u001b[38;5;241m=\u001b[39m \u001b[38;5;28;01mFalse\u001b[39;00m, errors: \u001b[38;5;28mstr\u001b[39m \u001b[38;5;241m=\u001b[39m \u001b[38;5;124m\"\u001b[39m\u001b[38;5;124mraise\u001b[39m\u001b[38;5;124m\"\u001b[39m) \u001b[38;5;241m-\u001b[39m\u001b[38;5;241m>\u001b[39m T:\n\u001b[1;32m--> 448\u001b[0m     \u001b[38;5;28;01mreturn\u001b[39;00m \u001b[38;5;28;43mself\u001b[39;49m\u001b[38;5;241;43m.\u001b[39;49m\u001b[43mapply\u001b[49m\u001b[43m(\u001b[49m\u001b[38;5;124;43m\"\u001b[39;49m\u001b[38;5;124;43mastype\u001b[39;49m\u001b[38;5;124;43m\"\u001b[39;49m\u001b[43m,\u001b[49m\u001b[43m \u001b[49m\u001b[43mdtype\u001b[49m\u001b[38;5;241;43m=\u001b[39;49m\u001b[43mdtype\u001b[49m\u001b[43m,\u001b[49m\u001b[43m \u001b[49m\u001b[43mcopy\u001b[49m\u001b[38;5;241;43m=\u001b[39;49m\u001b[43mcopy\u001b[49m\u001b[43m,\u001b[49m\u001b[43m \u001b[49m\u001b[43merrors\u001b[49m\u001b[38;5;241;43m=\u001b[39;49m\u001b[43merrors\u001b[49m\u001b[43m)\u001b[49m\n",
      "File \u001b[1;32m~\\abBox\\lib\\site-packages\\pandas\\core\\internals\\managers.py:352\u001b[0m, in \u001b[0;36mBaseBlockManager.apply\u001b[1;34m(self, f, align_keys, ignore_failures, **kwargs)\u001b[0m\n\u001b[0;32m    350\u001b[0m         applied \u001b[38;5;241m=\u001b[39m b\u001b[38;5;241m.\u001b[39mapply(f, \u001b[38;5;241m*\u001b[39m\u001b[38;5;241m*\u001b[39mkwargs)\n\u001b[0;32m    351\u001b[0m     \u001b[38;5;28;01melse\u001b[39;00m:\n\u001b[1;32m--> 352\u001b[0m         applied \u001b[38;5;241m=\u001b[39m \u001b[38;5;28mgetattr\u001b[39m(b, f)(\u001b[38;5;241m*\u001b[39m\u001b[38;5;241m*\u001b[39mkwargs)\n\u001b[0;32m    353\u001b[0m \u001b[38;5;28;01mexcept\u001b[39;00m (\u001b[38;5;167;01mTypeError\u001b[39;00m, \u001b[38;5;167;01mNotImplementedError\u001b[39;00m):\n\u001b[0;32m    354\u001b[0m     \u001b[38;5;28;01mif\u001b[39;00m \u001b[38;5;129;01mnot\u001b[39;00m ignore_failures:\n",
      "File \u001b[1;32m~\\abBox\\lib\\site-packages\\pandas\\core\\internals\\blocks.py:526\u001b[0m, in \u001b[0;36mBlock.astype\u001b[1;34m(self, dtype, copy, errors)\u001b[0m\n\u001b[0;32m    508\u001b[0m \u001b[38;5;124;03m\"\"\"\u001b[39;00m\n\u001b[0;32m    509\u001b[0m \u001b[38;5;124;03mCoerce to the new dtype.\u001b[39;00m\n\u001b[0;32m    510\u001b[0m \n\u001b[1;32m   (...)\u001b[0m\n\u001b[0;32m    522\u001b[0m \u001b[38;5;124;03mBlock\u001b[39;00m\n\u001b[0;32m    523\u001b[0m \u001b[38;5;124;03m\"\"\"\u001b[39;00m\n\u001b[0;32m    524\u001b[0m values \u001b[38;5;241m=\u001b[39m \u001b[38;5;28mself\u001b[39m\u001b[38;5;241m.\u001b[39mvalues\n\u001b[1;32m--> 526\u001b[0m new_values \u001b[38;5;241m=\u001b[39m \u001b[43mastype_array_safe\u001b[49m\u001b[43m(\u001b[49m\u001b[43mvalues\u001b[49m\u001b[43m,\u001b[49m\u001b[43m \u001b[49m\u001b[43mdtype\u001b[49m\u001b[43m,\u001b[49m\u001b[43m \u001b[49m\u001b[43mcopy\u001b[49m\u001b[38;5;241;43m=\u001b[39;49m\u001b[43mcopy\u001b[49m\u001b[43m,\u001b[49m\u001b[43m \u001b[49m\u001b[43merrors\u001b[49m\u001b[38;5;241;43m=\u001b[39;49m\u001b[43merrors\u001b[49m\u001b[43m)\u001b[49m\n\u001b[0;32m    528\u001b[0m new_values \u001b[38;5;241m=\u001b[39m maybe_coerce_values(new_values)\n\u001b[0;32m    529\u001b[0m newb \u001b[38;5;241m=\u001b[39m \u001b[38;5;28mself\u001b[39m\u001b[38;5;241m.\u001b[39mmake_block(new_values)\n",
      "File \u001b[1;32m~\\abBox\\lib\\site-packages\\pandas\\core\\dtypes\\astype.py:299\u001b[0m, in \u001b[0;36mastype_array_safe\u001b[1;34m(values, dtype, copy, errors)\u001b[0m\n\u001b[0;32m    296\u001b[0m     \u001b[38;5;28;01mreturn\u001b[39;00m values\u001b[38;5;241m.\u001b[39mcopy()\n\u001b[0;32m    298\u001b[0m \u001b[38;5;28;01mtry\u001b[39;00m:\n\u001b[1;32m--> 299\u001b[0m     new_values \u001b[38;5;241m=\u001b[39m \u001b[43mastype_array\u001b[49m\u001b[43m(\u001b[49m\u001b[43mvalues\u001b[49m\u001b[43m,\u001b[49m\u001b[43m \u001b[49m\u001b[43mdtype\u001b[49m\u001b[43m,\u001b[49m\u001b[43m \u001b[49m\u001b[43mcopy\u001b[49m\u001b[38;5;241;43m=\u001b[39;49m\u001b[43mcopy\u001b[49m\u001b[43m)\u001b[49m\n\u001b[0;32m    300\u001b[0m \u001b[38;5;28;01mexcept\u001b[39;00m (\u001b[38;5;167;01mValueError\u001b[39;00m, \u001b[38;5;167;01mTypeError\u001b[39;00m):\n\u001b[0;32m    301\u001b[0m     \u001b[38;5;66;03m# e.g. astype_nansafe can fail on object-dtype of strings\u001b[39;00m\n\u001b[0;32m    302\u001b[0m     \u001b[38;5;66;03m#  trying to convert to float\u001b[39;00m\n\u001b[0;32m    303\u001b[0m     \u001b[38;5;28;01mif\u001b[39;00m errors \u001b[38;5;241m==\u001b[39m \u001b[38;5;124m\"\u001b[39m\u001b[38;5;124mignore\u001b[39m\u001b[38;5;124m\"\u001b[39m:\n",
      "File \u001b[1;32m~\\abBox\\lib\\site-packages\\pandas\\core\\dtypes\\astype.py:230\u001b[0m, in \u001b[0;36mastype_array\u001b[1;34m(values, dtype, copy)\u001b[0m\n\u001b[0;32m    227\u001b[0m     values \u001b[38;5;241m=\u001b[39m values\u001b[38;5;241m.\u001b[39mastype(dtype, copy\u001b[38;5;241m=\u001b[39mcopy)\n\u001b[0;32m    229\u001b[0m \u001b[38;5;28;01melse\u001b[39;00m:\n\u001b[1;32m--> 230\u001b[0m     values \u001b[38;5;241m=\u001b[39m \u001b[43mastype_nansafe\u001b[49m\u001b[43m(\u001b[49m\u001b[43mvalues\u001b[49m\u001b[43m,\u001b[49m\u001b[43m \u001b[49m\u001b[43mdtype\u001b[49m\u001b[43m,\u001b[49m\u001b[43m \u001b[49m\u001b[43mcopy\u001b[49m\u001b[38;5;241;43m=\u001b[39;49m\u001b[43mcopy\u001b[49m\u001b[43m)\u001b[49m\n\u001b[0;32m    232\u001b[0m \u001b[38;5;66;03m# in pandas we don't store numpy str dtypes, so convert to object\u001b[39;00m\n\u001b[0;32m    233\u001b[0m \u001b[38;5;28;01mif\u001b[39;00m \u001b[38;5;28misinstance\u001b[39m(dtype, np\u001b[38;5;241m.\u001b[39mdtype) \u001b[38;5;129;01mand\u001b[39;00m \u001b[38;5;28missubclass\u001b[39m(values\u001b[38;5;241m.\u001b[39mdtype\u001b[38;5;241m.\u001b[39mtype, \u001b[38;5;28mstr\u001b[39m):\n",
      "File \u001b[1;32m~\\abBox\\lib\\site-packages\\pandas\\core\\dtypes\\astype.py:170\u001b[0m, in \u001b[0;36mastype_nansafe\u001b[1;34m(arr, dtype, copy, skipna)\u001b[0m\n\u001b[0;32m    166\u001b[0m     \u001b[38;5;28;01mraise\u001b[39;00m \u001b[38;5;167;01mValueError\u001b[39;00m(msg)\n\u001b[0;32m    168\u001b[0m \u001b[38;5;28;01mif\u001b[39;00m copy \u001b[38;5;129;01mor\u001b[39;00m is_object_dtype(arr\u001b[38;5;241m.\u001b[39mdtype) \u001b[38;5;129;01mor\u001b[39;00m is_object_dtype(dtype):\n\u001b[0;32m    169\u001b[0m     \u001b[38;5;66;03m# Explicit copy, or required since NumPy can't view from / to object.\u001b[39;00m\n\u001b[1;32m--> 170\u001b[0m     \u001b[38;5;28;01mreturn\u001b[39;00m \u001b[43marr\u001b[49m\u001b[38;5;241;43m.\u001b[39;49m\u001b[43mastype\u001b[49m\u001b[43m(\u001b[49m\u001b[43mdtype\u001b[49m\u001b[43m,\u001b[49m\u001b[43m \u001b[49m\u001b[43mcopy\u001b[49m\u001b[38;5;241;43m=\u001b[39;49m\u001b[38;5;28;43;01mTrue\u001b[39;49;00m\u001b[43m)\u001b[49m\n\u001b[0;32m    172\u001b[0m \u001b[38;5;28;01mreturn\u001b[39;00m arr\u001b[38;5;241m.\u001b[39mastype(dtype, copy\u001b[38;5;241m=\u001b[39mcopy)\n",
      "\u001b[1;31mValueError\u001b[0m: invalid literal for int() with base 10: '15M'"
     ]
    }
   ],
   "source": [
    "n['AGE']=n['AGE'].astype(int)"
   ]
  },
  {
   "cell_type": "code",
   "execution_count": null,
   "id": "df369509",
   "metadata": {},
   "outputs": [],
   "source": [
    "n.info"
   ]
  },
  {
   "cell_type": "code",
   "execution_count": null,
   "id": "e64c89c2",
   "metadata": {},
   "outputs": [],
   "source": [
    "n.dtypes"
   ]
  },
  {
   "cell_type": "code",
   "execution_count": null,
   "id": "c6dc68f7",
   "metadata": {},
   "outputs": [],
   "source": [
    "n.describe()"
   ]
  },
  {
   "cell_type": "code",
   "execution_count": null,
   "id": "29f3df88",
   "metadata": {},
   "outputs": [],
   "source": []
  },
  {
   "cell_type": "code",
   "execution_count": null,
   "id": "f514ec47",
   "metadata": {},
   "outputs": [],
   "source": [
    "n[\"AGE\"]=pd.to_numeric(n[\"AGE\"],errors=\"coerce\").fillna(13).astype(int)"
   ]
  },
  {
   "cell_type": "code",
   "execution_count": null,
   "id": "ad923a42",
   "metadata": {},
   "outputs": [],
   "source": [
    "n[\"AGE\"].mode()"
   ]
  },
  {
   "cell_type": "code",
   "execution_count": null,
   "id": "ebaaedae",
   "metadata": {},
   "outputs": [],
   "source": [
    "n.describe()"
   ]
  },
  {
   "cell_type": "code",
   "execution_count": null,
   "id": "80da5cc0",
   "metadata": {},
   "outputs": [],
   "source": [
    "n[\"WEIGHT\"].mode()"
   ]
  },
  {
   "cell_type": "code",
   "execution_count": null,
   "id": "0b8f7f09",
   "metadata": {},
   "outputs": [],
   "source": [
    "n[\"SEX\"].replace({'M': 1, 'F': 0},inplace=True)"
   ]
  },
  {
   "cell_type": "code",
   "execution_count": null,
   "id": "a274a718",
   "metadata": {},
   "outputs": [],
   "source": [
    "n[\"SEX\"]"
   ]
  },
  {
   "cell_type": "code",
   "execution_count": null,
   "id": "7ba7e2ac",
   "metadata": {},
   "outputs": [],
   "source": [
    "n[\"SEX\"].replace({'NaN': 0},inplace=True)"
   ]
  },
  {
   "cell_type": "code",
   "execution_count": null,
   "id": "e2edeb8f",
   "metadata": {},
   "outputs": [],
   "source": [
    "n[\"SEX\"]"
   ]
  },
  {
   "cell_type": "code",
   "execution_count": null,
   "id": "7ebfbf7f",
   "metadata": {},
   "outputs": [],
   "source": [
    "n[\"SEX\"].isnull().sum()"
   ]
  },
  {
   "cell_type": "code",
   "execution_count": null,
   "id": "5fade617",
   "metadata": {},
   "outputs": [],
   "source": [
    "n['SEX'].fillna(1, inplace=True)"
   ]
  },
  {
   "cell_type": "code",
   "execution_count": null,
   "id": "ff023dc2",
   "metadata": {},
   "outputs": [],
   "source": [
    "n[\"SEX\"]"
   ]
  },
  {
   "cell_type": "code",
   "execution_count": null,
   "id": "91d2f175",
   "metadata": {},
   "outputs": [],
   "source": [
    "n.isnull().sum()"
   ]
  },
  {
   "cell_type": "code",
   "execution_count": null,
   "id": "bc4c2757",
   "metadata": {},
   "outputs": [],
   "source": [
    "n[\"AGE\"].replace({\"o\":13},inplace=True)"
   ]
  },
  {
   "cell_type": "code",
   "execution_count": null,
   "id": "0098791f",
   "metadata": {},
   "outputs": [],
   "source": [
    "n.describe"
   ]
  },
  {
   "cell_type": "code",
   "execution_count": null,
   "id": "4e2d51a8",
   "metadata": {},
   "outputs": [],
   "source": [
    "n.info()"
   ]
  },
  {
   "cell_type": "code",
   "execution_count": null,
   "id": "53d879ed",
   "metadata": {},
   "outputs": [],
   "source": [
    "n[\"Sys\"].mode()"
   ]
  },
  {
   "cell_type": "code",
   "execution_count": null,
   "id": "bd0c6020",
   "metadata": {},
   "outputs": [],
   "source": [
    "n[\"Sys\"]= pd.to_numeric(n[\"Sys\"],errors=\"coerce\").fillna().astype(int)"
   ]
  },
  {
   "cell_type": "code",
   "execution_count": null,
   "id": "392bbb38",
   "metadata": {},
   "outputs": [],
   "source": [
    "n.describe(include = \"object\")"
   ]
  },
  {
   "cell_type": "code",
   "execution_count": null,
   "id": "7009a6f5",
   "metadata": {},
   "outputs": [],
   "source": [
    "n.info()"
   ]
  },
  {
   "cell_type": "code",
   "execution_count": null,
   "id": "13e8a741",
   "metadata": {},
   "outputs": [],
   "source": [
    "n['Dis']=pd.to_numeric(n['Dis'])\n",
    "n"
   ]
  },
  {
   "cell_type": "code",
   "execution_count": null,
   "id": "d3796391",
   "metadata": {},
   "outputs": [],
   "source": [
    "for col in n.describe(include=\"object\").columns:\n",
    "    print (col)\n",
    "    print (n[col].unique())\n",
    "    print (\"-\"*50)\n",
    "    "
   ]
  },
  {
   "cell_type": "code",
   "execution_count": null,
   "id": "00d40908",
   "metadata": {},
   "outputs": [],
   "source": [
    "n['Sys'].plot(kind='box')\n",
    "plt.show()"
   ]
  },
  {
   "cell_type": "code",
   "execution_count": null,
   "id": "fb34e46a",
   "metadata": {},
   "outputs": [],
   "source": [
    "n['Dis'].iloc[126] = 10\n",
    "n"
   ]
  },
  {
   "cell_type": "code",
   "execution_count": null,
   "id": "8e459917",
   "metadata": {},
   "outputs": [],
   "source": [
    "n['AGE']=pd.to_numeric(n['AGE'])"
   ]
  },
  {
   "cell_type": "code",
   "execution_count": null,
   "id": "cbe3617e",
   "metadata": {},
   "outputs": [],
   "source": [
    "n['AGE'].iloc[338]=15"
   ]
  },
  {
   "cell_type": "code",
   "execution_count": null,
   "id": "f4f7dc63",
   "metadata": {},
   "outputs": [],
   "source": [
    "n['AGE'].iloc[593]=15"
   ]
  },
  {
   "cell_type": "code",
   "execution_count": null,
   "id": "ce8c441e",
   "metadata": {},
   "outputs": [],
   "source": [
    "n['AGE'].iloc[813]=13"
   ]
  },
  {
   "cell_type": "code",
   "execution_count": null,
   "id": "9429fccd",
   "metadata": {},
   "outputs": [],
   "source": [
    "n"
   ]
  },
  {
   "cell_type": "code",
   "execution_count": null,
   "id": "92e97c2d",
   "metadata": {},
   "outputs": [],
   "source": [
    "n.dropna()"
   ]
  },
  {
   "cell_type": "code",
   "execution_count": null,
   "id": "af93a234",
   "metadata": {},
   "outputs": [],
   "source": [
    "n.describe()"
   ]
  },
  {
   "cell_type": "code",
   "execution_count": null,
   "id": "515af836",
   "metadata": {},
   "outputs": [],
   "source": [
    "sex_per = n['SEX'].value_counts(normalize= True)\n",
    "sex_per"
   ]
  },
  {
   "cell_type": "code",
   "execution_count": null,
   "id": "7fa9e250",
   "metadata": {},
   "outputs": [],
   "source": [
    "plt.scatter(n['AGE'],n['PULSE'])\n",
    "plt.xlabel(\"AGE\")\n",
    "plt.ylabel(\"PULSE\")\n",
    "plt.title(\"Scatter Plot\")\n",
    "plt.show()"
   ]
  },
  {
   "cell_type": "code",
   "execution_count": null,
   "id": "61ac1817",
   "metadata": {},
   "outputs": [],
   "source": [
    "plt.scatter(n['WEIGHT'],n['PULSE'])\n",
    "plt.xlabel(\"WEIGHT\")\n",
    "plt.ylabel(\"PULSE\")\n",
    "plt.title(\"WEIGHT VS PULSE\")\n",
    "plt.show()\n",
    "n=n[n['WEIGHT']<150]"
   ]
  },
  {
   "cell_type": "code",
   "execution_count": null,
   "id": "2c639f81",
   "metadata": {},
   "outputs": [],
   "source": [
    "fig, axs = plt.subplots(3)\n",
    "axs[0].plot(n['PULSE'])\n",
    "axs[1].plot(n['Dis'])\n",
    "axs[2].plot(n['Sys'])\n",
    "plt.show()"
   ]
  },
  {
   "cell_type": "code",
   "execution_count": null,
   "id": "f3b51e97",
   "metadata": {},
   "outputs": [],
   "source": [
    "plt.scatter(n['HIGHT'],n['PULSE'])\n",
    "plt.xlabel(\"HIGHT\")\n",
    "plt.ylabel(\"PULSE\")\n",
    "plt.show()\n",
    "n=n[n['HIGHT']<200]\n",
    "n=n[n['PULSE']<140]"
   ]
  },
  {
   "cell_type": "code",
   "execution_count": null,
   "id": "e73fc990",
   "metadata": {},
   "outputs": [],
   "source": [
    "n['WEIGHT'].mode()"
   ]
  },
  {
   "cell_type": "code",
   "execution_count": null,
   "id": "486aa7d8",
   "metadata": {},
   "outputs": [],
   "source": [
    "plt.scatter(n['WEIGHT'],n['Sys'])\n",
    "plt.xlabel(\"WEIGHT\")\n",
    "plt.ylabel(\"Sys\")\n",
    "plt.show()\n",
    "n=n[n['WEIGHT']<70]"
   ]
  },
  {
   "cell_type": "code",
   "execution_count": null,
   "id": "5d2daeec",
   "metadata": {},
   "outputs": [],
   "source": [
    "plt.scatter(n['Sys'],n['Dis'])\n",
    "plt.xlabel[\"Sys\"]\n",
    "plt.ylabel[\"Dis\"]\n",
    "plt.show()"
   ]
  },
  {
   "cell_type": "code",
   "execution_count": null,
   "id": "ff4aef75",
   "metadata": {},
   "outputs": [],
   "source": [
    "n.cov()"
   ]
  },
  {
   "cell_type": "code",
   "execution_count": null,
   "id": "e04d1f45",
   "metadata": {},
   "outputs": [],
   "source": [
    "n.corr()"
   ]
  },
  {
   "cell_type": "code",
   "execution_count": null,
   "id": "f4cf9be7",
   "metadata": {},
   "outputs": [],
   "source": [
    "n[\"PULSE\"].max()"
   ]
  },
  {
   "cell_type": "raw",
   "id": "509c22e0",
   "metadata": {},
   "source": []
  },
  {
   "cell_type": "code",
   "execution_count": null,
   "id": "a94294dc",
   "metadata": {},
   "outputs": [],
   "source": [
    "def is_less_than_140(x):\n",
    "  return np.less(x, 140)\n",
    "\n",
    "n[\"PULSE\"].replace(is_less_than_140, 135)"
   ]
  },
  {
   "cell_type": "code",
   "execution_count": null,
   "id": "391073d2",
   "metadata": {},
   "outputs": [],
   "source": [
    "n"
   ]
  },
  {
   "cell_type": "code",
   "execution_count": null,
   "id": "78758bc0",
   "metadata": {},
   "outputs": [],
   "source": [
    "n.shape"
   ]
  },
  {
   "cell_type": "code",
   "execution_count": null,
   "id": "27a84109",
   "metadata": {},
   "outputs": [],
   "source": [
    "plt.bar(n['HIGHT'],n['WEIGHT'])\n",
    "plt.xlabel('HIGHT')\n",
    "plt.ylabel('WEIGHT')\n",
    "plt.show()\n",
    "n=n[n['WEIGHT']<190,n['WEIGHT']>30]\n",
    "n=n[n['HIGHT']<190]"
   ]
  },
  {
   "cell_type": "code",
   "execution_count": 28,
   "id": "2f4dfc14",
   "metadata": {},
   "outputs": [],
   "source": [
    "Max_s, Min_s=n.Sys.quantile([0.999,0.001])"
   ]
  },
  {
   "cell_type": "code",
   "execution_count": 29,
   "id": "03166693",
   "metadata": {},
   "outputs": [
    {
     "data": {
      "text/plain": [
       "(151.74000000000024, 47.27)"
      ]
     },
     "execution_count": 29,
     "metadata": {},
     "output_type": "execute_result"
    }
   ],
   "source": [
    "Max_s, Min_s"
   ]
  },
  {
   "cell_type": "code",
   "execution_count": 33,
   "id": "86cce417",
   "metadata": {},
   "outputs": [
    {
     "data": {
      "text/html": [
       "<div>\n",
       "<style scoped>\n",
       "    .dataframe tbody tr th:only-of-type {\n",
       "        vertical-align: middle;\n",
       "    }\n",
       "\n",
       "    .dataframe tbody tr th {\n",
       "        vertical-align: top;\n",
       "    }\n",
       "\n",
       "    .dataframe thead th {\n",
       "        text-align: right;\n",
       "    }\n",
       "</style>\n",
       "<table border=\"1\" class=\"dataframe\">\n",
       "  <thead>\n",
       "    <tr style=\"text-align: right;\">\n",
       "      <th></th>\n",
       "      <th>AGE</th>\n",
       "      <th>SEX</th>\n",
       "      <th>HIGHT</th>\n",
       "      <th>WEIGHT</th>\n",
       "      <th>Sys</th>\n",
       "      <th>Dis</th>\n",
       "      <th>PULSE</th>\n",
       "    </tr>\n",
       "  </thead>\n",
       "  <tbody>\n",
       "    <tr>\n",
       "      <th>0</th>\n",
       "      <td>13</td>\n",
       "      <td>M</td>\n",
       "      <td>142.0</td>\n",
       "      <td>29.0</td>\n",
       "      <td>100</td>\n",
       "      <td>70</td>\n",
       "      <td>89</td>\n",
       "    </tr>\n",
       "    <tr>\n",
       "      <th>1</th>\n",
       "      <td>12</td>\n",
       "      <td>M</td>\n",
       "      <td>152.0</td>\n",
       "      <td>32.0</td>\n",
       "      <td>93</td>\n",
       "      <td>57</td>\n",
       "      <td>90</td>\n",
       "    </tr>\n",
       "    <tr>\n",
       "      <th>2</th>\n",
       "      <td>12</td>\n",
       "      <td>M</td>\n",
       "      <td>150.0</td>\n",
       "      <td>35.0</td>\n",
       "      <td>101</td>\n",
       "      <td>51</td>\n",
       "      <td>82</td>\n",
       "    </tr>\n",
       "    <tr>\n",
       "      <th>3</th>\n",
       "      <td>13</td>\n",
       "      <td>M</td>\n",
       "      <td>173.0</td>\n",
       "      <td>45.0</td>\n",
       "      <td>116</td>\n",
       "      <td>66</td>\n",
       "      <td>75</td>\n",
       "    </tr>\n",
       "    <tr>\n",
       "      <th>4</th>\n",
       "      <td>13</td>\n",
       "      <td>F</td>\n",
       "      <td>156.0</td>\n",
       "      <td>44.0</td>\n",
       "      <td>93</td>\n",
       "      <td>59</td>\n",
       "      <td>83</td>\n",
       "    </tr>\n",
       "    <tr>\n",
       "      <th>...</th>\n",
       "      <td>...</td>\n",
       "      <td>...</td>\n",
       "      <td>...</td>\n",
       "      <td>...</td>\n",
       "      <td>...</td>\n",
       "      <td>...</td>\n",
       "      <td>...</td>\n",
       "    </tr>\n",
       "    <tr>\n",
       "      <th>811</th>\n",
       "      <td>14</td>\n",
       "      <td>M</td>\n",
       "      <td>161.0</td>\n",
       "      <td>54.0</td>\n",
       "      <td>100</td>\n",
       "      <td>77</td>\n",
       "      <td>100</td>\n",
       "    </tr>\n",
       "    <tr>\n",
       "      <th>812</th>\n",
       "      <td>14</td>\n",
       "      <td>M</td>\n",
       "      <td>102.0</td>\n",
       "      <td>36.0</td>\n",
       "      <td>102</td>\n",
       "      <td>75</td>\n",
       "      <td>91</td>\n",
       "    </tr>\n",
       "    <tr>\n",
       "      <th>813</th>\n",
       "      <td>13.5F</td>\n",
       "      <td>NaN</td>\n",
       "      <td>167.0</td>\n",
       "      <td>40.0</td>\n",
       "      <td>109</td>\n",
       "      <td>83</td>\n",
       "      <td>88</td>\n",
       "    </tr>\n",
       "    <tr>\n",
       "      <th>814</th>\n",
       "      <td>14</td>\n",
       "      <td>F</td>\n",
       "      <td>160.0</td>\n",
       "      <td>52.0</td>\n",
       "      <td>124</td>\n",
       "      <td>72</td>\n",
       "      <td>107</td>\n",
       "    </tr>\n",
       "    <tr>\n",
       "      <th>815</th>\n",
       "      <td>14</td>\n",
       "      <td>F</td>\n",
       "      <td>158.0</td>\n",
       "      <td>66.0</td>\n",
       "      <td>114</td>\n",
       "      <td>68</td>\n",
       "      <td>78</td>\n",
       "    </tr>\n",
       "  </tbody>\n",
       "</table>\n",
       "<p>815 rows × 7 columns</p>\n",
       "</div>"
      ],
      "text/plain": [
       "       AGE  SEX  HIGHT  WEIGHT  Sys  Dis  PULSE\n",
       "0       13    M  142.0    29.0  100   70     89\n",
       "1       12    M  152.0    32.0   93   57     90\n",
       "2       12    M  150.0    35.0  101   51     82\n",
       "3       13    M  173.0    45.0  116   66     75\n",
       "4       13    F  156.0    44.0   93   59     83\n",
       "..     ...  ...    ...     ...  ...  ...    ...\n",
       "811     14    M  161.0    54.0  100   77    100\n",
       "812     14    M  102.0    36.0  102   75     91\n",
       "813  13.5F  NaN  167.0    40.0  109   83     88\n",
       "814     14    F  160.0    52.0  124   72    107\n",
       "815     14    F  158.0    66.0  114   68     78\n",
       "\n",
       "[815 rows x 7 columns]"
      ]
     },
     "execution_count": 33,
     "metadata": {},
     "output_type": "execute_result"
    }
   ],
   "source": [
    "n[n.Sys<Max_s]"
   ]
  },
  {
   "cell_type": "code",
   "execution_count": 32,
   "id": "b0dce421",
   "metadata": {},
   "outputs": [],
   "source": [
    "Max_d, Min_d=n.Dis.quantile([0.999,0.001])"
   ]
  },
  {
   "cell_type": "code",
   "execution_count": null,
   "id": "10e0e3dd",
   "metadata": {},
   "outputs": [],
   "source": [
    "Max_d, Min_d"
   ]
  },
  {
   "cell_type": "code",
   "execution_count": null,
   "id": "550bc4cb",
   "metadata": {},
   "outputs": [],
   "source": []
  }
 ],
 "metadata": {
  "kernelspec": {
   "display_name": "Python 3 (ipykernel)",
   "language": "python",
   "name": "python3"
  },
  "language_info": {
   "codemirror_mode": {
    "name": "ipython",
    "version": 3
   },
   "file_extension": ".py",
   "mimetype": "text/x-python",
   "name": "python",
   "nbconvert_exporter": "python",
   "pygments_lexer": "ipython3",
   "version": "3.10.9"
  }
 },
 "nbformat": 4,
 "nbformat_minor": 5
}
